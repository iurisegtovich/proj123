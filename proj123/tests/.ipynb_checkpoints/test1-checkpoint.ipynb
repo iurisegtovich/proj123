{
 "cells": [
  {
   "cell_type": "code",
   "execution_count": 1,
   "id": "0c041013",
   "metadata": {},
   "outputs": [
    {
     "name": "stdout",
     "output_type": "stream",
     "text": [
      "loading proj123\n"
     ]
    }
   ],
   "source": [
    "import proj123"
   ]
  },
  {
   "cell_type": "code",
   "execution_count": 2,
   "id": "6bbd486e",
   "metadata": {},
   "outputs": [
    {
     "name": "stdout",
     "output_type": "stream",
     "text": [
      "loading models\n",
      "loading numericals\n"
     ]
    }
   ],
   "source": [
    "import proj123.model as model"
   ]
  },
  {
   "cell_type": "code",
   "execution_count": 3,
   "id": "889363b5",
   "metadata": {},
   "outputs": [
    {
     "data": {
      "text/plain": [
       "0.024942"
      ]
     },
     "execution_count": 3,
     "metadata": {},
     "output_type": "execute_result"
    }
   ],
   "source": [
    "t=300\n",
    "p=1e5\n",
    "n=1\n",
    "v=model.idealgas.f_v(t,p,n)\n",
    "v"
   ]
  },
  {
   "cell_type": "code",
   "execution_count": 4,
   "id": "6b922edf",
   "metadata": {},
   "outputs": [
    {
     "data": {
      "text/plain": [
       "0.0033333333332980974"
      ]
     },
     "execution_count": 4,
     "metadata": {},
     "output_type": "execute_result"
    }
   ],
   "source": [
    "a=model.idealgas.f_a(t,p,n)\n",
    "a"
   ]
  },
  {
   "cell_type": "code",
   "execution_count": 7,
   "id": "cb343eb1",
   "metadata": {},
   "outputs": [],
   "source": [
    "# v=model.idealgas2.f_v(t,p,n)\n",
    "#AttributeError: module 'proj123.model' has no attribute 'idealgas2'"
   ]
  },
  {
   "cell_type": "code",
   "execution_count": 8,
   "id": "a51e093a",
   "metadata": {},
   "outputs": [
    {
     "data": {
      "text/plain": [
       "0.024942"
      ]
     },
     "execution_count": 8,
     "metadata": {},
     "output_type": "execute_result"
    }
   ],
   "source": [
    "from proj123.model import idealgas2\n",
    "v=idealgas2.f_v(t,p,n)\n",
    "v"
   ]
  },
  {
   "cell_type": "code",
   "execution_count": 9,
   "id": "10a9c2dd",
   "metadata": {},
   "outputs": [
    {
     "name": "stdout",
     "output_type": "stream",
     "text": [
      "loading proj123\r\n",
      "running proj123 main\r\n"
     ]
    }
   ],
   "source": [
    "!python -m proj123"
   ]
  }
 ],
 "metadata": {
  "kernelspec": {
   "display_name": "Python 3 (ipykernel)",
   "language": "python",
   "name": "python3"
  },
  "language_info": {
   "codemirror_mode": {
    "name": "ipython",
    "version": 3
   },
   "file_extension": ".py",
   "mimetype": "text/x-python",
   "name": "python",
   "nbconvert_exporter": "python",
   "pygments_lexer": "ipython3",
   "version": "3.9.13"
  }
 },
 "nbformat": 4,
 "nbformat_minor": 5
}
